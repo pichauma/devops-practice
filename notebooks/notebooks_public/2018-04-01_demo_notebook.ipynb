{
 "cells": [
  {
   "cell_type": "code",
   "execution_count": 1,
   "metadata": {},
   "outputs": [],
   "source": [
    "# these lines are useful if you are modifying source code from a module that you are using in the notebook\n",
    "%load_ext autoreload\n",
    "%autoreload 2\n",
    "%matplotlib inline"
   ]
  },
  {
   "cell_type": "code",
   "execution_count": 2,
   "metadata": {},
   "outputs": [],
   "source": [
    "# Si votre projet est setup correctement vous devriez pouvoir charger les modules suivants:"
   ]
  },
  {
   "cell_type": "code",
   "execution_count": 3,
   "metadata": {},
   "outputs": [
    {
     "name": "stdout",
     "output_type": "stream",
     "text": [
      "Using settings for ENVIRONMENT=dev\n"
     ]
    }
   ],
   "source": [
    "from formation_devops import settings"
   ]
  },
  {
   "cell_type": "code",
   "execution_count": 4,
   "metadata": {},
   "outputs": [
    {
     "name": "stdout",
     "output_type": "stream",
     "text": [
      "Help on FileManager in module formation_devops.infrastructure.files object:\n",
      "\n",
      "class FileManager(builtins.object)\n",
      " |  Utility class to handle data files contained in a root folder\n",
      " |  \n",
      " |  Parameters\n",
      " |  ----------\n",
      " |  root: str\n",
      " |      absolute path to the root data folder\n",
      " |  \n",
      " |  \n",
      " |  >>> files = FileManager('/path/to/data/')\n",
      " |  >>> df = files.load('raw/iris.csv')\n",
      " |  # Loads dataframe from /path/to/data/raw/iris.csv\n",
      " |  >>> files.save(df, 'clean/iris.pickle')\n",
      " |  # saves to /path/to/data/clean/iris.pickle\n",
      " |  # end ensures 'clean' folder exists\n",
      " |  \n",
      " |  Methods defined here:\n",
      " |  \n",
      " |  __init__(self, root)\n",
      " |      Initialize self.  See help(type(self)) for accurate signature.\n",
      " |  \n",
      " |  ensure_folder_exists(self, abspath)\n",
      " |      creates subfolders if necessary\n",
      " |  \n",
      " |  get_filepath(self, relative_path, create_folders=False)\n",
      " |      Returns absolute path from relative to ``data/`` folder\n",
      " |  \n",
      " |  load(self, relative_path, *args, **kwargs)\n",
      " |      Loads .pickle and .csv from file relative to  ``data/`` folder\n",
      " |      \n",
      " |      Parameters\n",
      " |      ----------\n",
      " |      relative_path: str\n",
      " |          path relative to the application ``data/`` folder\n",
      " |      args:\n",
      " |          those are passed to the inner load function\n",
      " |      kwargs:\n",
      " |          those are passed to the inner load function\n",
      " |      \n",
      " |      \n",
      " |      >>> # this loads the file /path/to/data/raw/iris.csv\n",
      " |      >>> df = files.load('raw/iris.csv', nrows=10, dtype='str')\n",
      " |  \n",
      " |  save(self, thing, relative_path, *args, **kwargs)\n",
      " |      Save object (usually dataframe) to file\n",
      " |      \n",
      " |      Additional ``*args`` and ``**kwargs`` are passed to the underlying function.\n",
      " |      \n",
      " |      \n",
      " |      >>> df = pd.DataFrame()\n",
      " |      >>> files.save(df, 'clean/iris.pickle')\n",
      " |  \n",
      " |  ----------------------------------------------------------------------\n",
      " |  Data descriptors defined here:\n",
      " |  \n",
      " |  __dict__\n",
      " |      dictionary for instance variables (if defined)\n",
      " |  \n",
      " |  __weakref__\n",
      " |      list of weak references to the object (if defined)\n",
      "\n"
     ]
    }
   ],
   "source": [
    "from formation_devops.infrastructure import FileManager\n",
    "\n",
    "files = FileManager(settings.DATA_DIR)\n",
    "help(files)"
   ]
  },
  {
   "cell_type": "code",
   "execution_count": 5,
   "metadata": {},
   "outputs": [
    {
     "name": "stderr",
     "output_type": "stream",
     "text": [
      "[2018-09-14 09:34:34][DEBUG][files] Loading from: /Users/benjamin/Documents/temp/20170509_TaskForceDataEngineering_TemplateCode/data/raw/iris.csv\n"
     ]
    }
   ],
   "source": [
    "iris = files.load('raw/iris.csv')"
   ]
  },
  {
   "cell_type": "code",
   "execution_count": 6,
   "metadata": {},
   "outputs": [
    {
     "data": {
      "text/html": [
       "<div>\n",
       "<style scoped>\n",
       "    .dataframe tbody tr th:only-of-type {\n",
       "        vertical-align: middle;\n",
       "    }\n",
       "\n",
       "    .dataframe tbody tr th {\n",
       "        vertical-align: top;\n",
       "    }\n",
       "\n",
       "    .dataframe thead th {\n",
       "        text-align: right;\n",
       "    }\n",
       "</style>\n",
       "<table border=\"1\" class=\"dataframe\">\n",
       "  <thead>\n",
       "    <tr style=\"text-align: right;\">\n",
       "      <th></th>\n",
       "      <th>sepal_length</th>\n",
       "      <th>sepal_width</th>\n",
       "      <th>petal_length</th>\n",
       "      <th>petal_width</th>\n",
       "      <th>species</th>\n",
       "    </tr>\n",
       "  </thead>\n",
       "  <tbody>\n",
       "    <tr>\n",
       "      <th>0</th>\n",
       "      <td>5.1</td>\n",
       "      <td>3.5</td>\n",
       "      <td>1.4</td>\n",
       "      <td>0.2</td>\n",
       "      <td>setosa</td>\n",
       "    </tr>\n",
       "    <tr>\n",
       "      <th>1</th>\n",
       "      <td>4.9</td>\n",
       "      <td>3.0</td>\n",
       "      <td>1.4</td>\n",
       "      <td>0.2</td>\n",
       "      <td>setosa</td>\n",
       "    </tr>\n",
       "    <tr>\n",
       "      <th>2</th>\n",
       "      <td>4.7</td>\n",
       "      <td>3.2</td>\n",
       "      <td>1.3</td>\n",
       "      <td>0.2</td>\n",
       "      <td>setosa</td>\n",
       "    </tr>\n",
       "    <tr>\n",
       "      <th>3</th>\n",
       "      <td>4.6</td>\n",
       "      <td>3.1</td>\n",
       "      <td>1.5</td>\n",
       "      <td>0.2</td>\n",
       "      <td>setosa</td>\n",
       "    </tr>\n",
       "    <tr>\n",
       "      <th>4</th>\n",
       "      <td>5.0</td>\n",
       "      <td>3.6</td>\n",
       "      <td>1.4</td>\n",
       "      <td>0.2</td>\n",
       "      <td>setosa</td>\n",
       "    </tr>\n",
       "  </tbody>\n",
       "</table>\n",
       "</div>"
      ],
      "text/plain": [
       "   sepal_length  sepal_width  petal_length  petal_width species\n",
       "0           5.1          3.5           1.4          0.2  setosa\n",
       "1           4.9          3.0           1.4          0.2  setosa\n",
       "2           4.7          3.2           1.3          0.2  setosa\n",
       "3           4.6          3.1           1.5          0.2  setosa\n",
       "4           5.0          3.6           1.4          0.2  setosa"
      ]
     },
     "execution_count": 6,
     "metadata": {},
     "output_type": "execute_result"
    }
   ],
   "source": [
    "iris.head()"
   ]
  },
  {
   "cell_type": "code",
   "execution_count": null,
   "metadata": {},
   "outputs": [],
   "source": []
  }
 ],
 "metadata": {
  "kernelspec": {
   "display_name": "Python 3",
   "language": "python",
   "name": "python3"
  },
  "language_info": {
   "codemirror_mode": {
    "name": "ipython",
    "version": 3
   },
   "file_extension": ".py",
   "mimetype": "text/x-python",
   "name": "python",
   "nbconvert_exporter": "python",
   "pygments_lexer": "ipython3",
   "version": "3.6.5"
  }
 },
 "nbformat": 4,
 "nbformat_minor": 2
}
